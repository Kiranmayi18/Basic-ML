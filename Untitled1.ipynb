{
  "nbformat": 4,
  "nbformat_minor": 0,
  "metadata": {
    "colab": {
      "name": "Untitled1.ipynb",
      "provenance": [],
      "authorship_tag": "ABX9TyPQl5WLWkB+steVZ4hX/g2H",
      "include_colab_link": true
    },
    "kernelspec": {
      "name": "python3",
      "display_name": "Python 3"
    },
    "language_info": {
      "name": "python"
    }
  },
  "cells": [
    {
      "cell_type": "markdown",
      "metadata": {
        "id": "view-in-github",
        "colab_type": "text"
      },
      "source": [
        "<a href=\"https://colab.research.google.com/github/Kiranmayi18/Basic-ML/blob/main/Untitled1.ipynb\" target=\"_parent\"><img src=\"https://colab.research.google.com/assets/colab-badge.svg\" alt=\"Open In Colab\"/></a>"
      ]
    },
    {
      "cell_type": "code",
      "metadata": {
        "id": "oWxeG2bZ-87e"
      },
      "source": [
        "1)Sum of two numbers\n",
        "here we are performing sum of two numbers using python.\n"
      ],
      "execution_count": null,
      "outputs": []
    },
    {
      "cell_type": "code",
      "metadata": {
        "colab": {
          "base_uri": "https://localhost:8080/"
        },
        "id": "-gM1pQMJ_T_P",
        "outputId": "ccf94e7d-af12-4fd4-cb3b-b8ce7941bcb7"
      },
      "source": [
        "a=4\n",
        "b=5\n",
        "s=a+b\n",
        "print(s)\n"
      ],
      "execution_count": 2,
      "outputs": [
        {
          "output_type": "stream",
          "text": [
            "9\n"
          ],
          "name": "stdout"
        }
      ]
    },
    {
      "cell_type": "code",
      "metadata": {
        "id": "w3BEkyJwGgny"
      },
      "source": [
        ""
      ],
      "execution_count": null,
      "outputs": []
    },
    {
      "cell_type": "markdown",
      "metadata": {
        "id": "n8mNqqq4BEfN"
      },
      "source": [
        "2)To know even or odd,\n",
        "performing a program to know whether a number is even or odd\n"
      ]
    },
    {
      "cell_type": "code",
      "metadata": {
        "colab": {
          "base_uri": "https://localhost:8080/"
        },
        "id": "yN0kpPUABZLK",
        "outputId": "29c1ae0a-bc18-4ad4-e09d-13883c474a89"
      },
      "source": [
        "a=4\n",
        "if (a%2==0):\n",
        "   print(\"EVEN\")\n",
        "else:\n",
        "   print(\"ODD\")"
      ],
      "execution_count": 3,
      "outputs": [
        {
          "output_type": "stream",
          "text": [
            "EVEN\n"
          ],
          "name": "stdout"
        }
      ]
    },
    {
      "cell_type": "code",
      "metadata": {
        "id": "SyoCDCD9BRdG"
      },
      "source": [
        ""
      ],
      "execution_count": null,
      "outputs": []
    },
    {
      "cell_type": "markdown",
      "metadata": {
        "id": "ZSuAwiTvBpZw"
      },
      "source": [
        "3)To know the given number is either positive or negative or zero\n"
      ]
    },
    {
      "cell_type": "code",
      "metadata": {
        "colab": {
          "base_uri": "https://localhost:8080/"
        },
        "id": "aDji5AF2BzOp",
        "outputId": "897cc746-d7f3-4021-ed7b-af02657515d3"
      },
      "source": [
        "a=0\n",
        "if (a>0):\n",
        "  print(\"Positive\")\n",
        "elif(a<0):\n",
        "  print(\"Negative\")\n",
        "else:\n",
        "  print(\"0\")"
      ],
      "execution_count": 4,
      "outputs": [
        {
          "output_type": "stream",
          "text": [
            "0\n"
          ],
          "name": "stdout"
        }
      ]
    },
    {
      "cell_type": "markdown",
      "metadata": {
        "id": "yJ4vqVmt_I_U"
      },
      "source": [
        ""
      ]
    }
  ]
}